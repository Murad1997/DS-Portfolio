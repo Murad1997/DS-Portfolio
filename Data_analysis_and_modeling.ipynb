{
  "nbformat": 4,
  "nbformat_minor": 0,
  "metadata": {
    "colab": {
      "provenance": [],
      "authorship_tag": "ABX9TyN9rHiQvsQKRXN7m9ET94fv",
      "include_colab_link": true
    },
    "kernelspec": {
      "name": "python3",
      "display_name": "Python 3"
    },
    "language_info": {
      "name": "python"
    }
  },
  "cells": [
    {
      "cell_type": "markdown",
      "metadata": {
        "id": "view-in-github",
        "colab_type": "text"
      },
      "source": [
        "<a href=\"https://colab.research.google.com/github/Murad1997/DS-Portfolio/blob/main/Data_analysis_and_modeling.ipynb\" target=\"_parent\"><img src=\"https://colab.research.google.com/assets/colab-badge.svg\" alt=\"Open In Colab\"/></a>"
      ]
    },
    {
      "cell_type": "markdown",
      "source": [
        "# Data Loading\n",
        "  - We use the electric vhicle dataset provided by the Washington State Department of Licensing and is available [here](https://data.wa.gov/Transportation/Electric-Vehicle-Population-Data/f6w7-q2d2/about_data). This dataset shows the Battery Electric Vehicles (BEVs) and Plug-in Hybrid Electric Vehicles (PHEVs) that are currently registered through Washington State Department of Licensing (DOL).\n",
        "  - The selected dataset from teh Washington State Department of Licensing (DOL) has `163K` rows and `17` columns. The detials of the columns are as follows:\n",
        "\n",
        "   <table>\n",
        "  <thead>\n",
        "      <tr>\n",
        "        <th>Column Name</th>\n",
        "        <th>Description</th>\n",
        "      </tr>\n",
        "  </thead>\n",
        "  <tbody>\n",
        "      <tr>\n",
        "        <td>VIN (1-10)</td>\n",
        "        <td>The 1st 10 characters of each vehicle's Vehicle Identification Number (VIN).</td>\n",
        "      </tr>\n",
        "      <tr>\n",
        "        <td>County</td>\n",
        "        <td>This is the geographic region of a state that a vehicle's owner is listed to reside within. Vehicles registered in Washington state may be located in other states.</td>\n",
        "      </tr>\n",
        "      <tr>\n",
        "        <td>City</td>\n",
        "        <td>The city in which the registered owner resides.</td>\n",
        "      </tr>\n",
        "      <tr>\n",
        "        <td>State</td>\n",
        "        <td>This is the geographic region of the country associated with the record. These addresses may be located in other states.</td>\n",
        "      </tr>\n",
        "      <tr>\n",
        "        <td>Postal Code</td>\n",
        "        <td>The 5 digit zip code in which the registered owner resides.</td>\n",
        "      </tr>\n",
        "      <tr>\n",
        "        <td>Model Year</td>\n",
        "        <td>The model year of the vehicle, determined by decoding the Vehicle Identification Number (VIN).</td>\n",
        "      </tr>\n",
        "      <tr>\n",
        "        <td>Make</td>\n",
        "        <td>The manufacturer of the vehicle, determined by decoding the Vehicle Identification Number (VIN).</td>\n",
        "      </tr>\n",
        "      <tr>\n",
        "        <td>Model</td>\n",
        "        <td>The model of the vehicle, determined by decoding the Vehicle Identification Number (VIN).</td>\n",
        "      </tr>\n",
        "      <tr>\n",
        "        <td>Electric Vehicle Type</td>\n",
        "        <td>This distinguishes the vehicle as all electric or a plug-in hybrid.</td>\n",
        "      </tr>\n",
        "      <tr>\n",
        "        <td>Clean Alternative Fuel Vehicle (CAFV) Eligibility</td>\n",
        "        <td>This categorizes vehicle as Clean Alternative Fuel Vehicles (CAFVs) based on the fuel requirement and electric-only range requirement in House Bill 2042 as passed in the 2019 legislative session.</td>\n",
        "      </tr>\n",
        "      <tr>\n",
        "        <td>Electric Range</td>\n",
        "        <td>Describes how far a vehicle can travel purely on its electric charge.</td>\n",
        "      </tr>\n",
        "      <tr>\n",
        "        <td>Base MSRP</td>\n",
        "        <td>This is the lowest Manufacturer's Suggested Retail Price (MSRP) for any trim level of the model in question.</td>\n",
        "      </tr>\n",
        "      <tr>\n",
        "        <td>Legislative District</td>\n",
        "        <td>The specific section of Washington State that the vehicle's owner resides in, as represented in the state legislature.</td>\n",
        "      </tr>\n",
        "      <tr>\n",
        "        <td>DOL Vehicle ID</td>\n",
        "        <td>Unique number assigned to each vehicle by Department of Licensing for identification purposes.</td>\n",
        "      </tr>\n",
        "      <tr>\n",
        "        <td>Vehicle Location</td>\n",
        "        <td>The center of the ZIP Code for the registered vehicle.</td>\n",
        "      </tr>\n",
        "      <tr>\n",
        "        <td>Electric Utility</td>\n",
        "        <td>This is the electric power retail service territories serving the address of the registered vehicle. All ownership types for areas in Washington are included: federal, investor owned, municipal, political subdivision, and cooperative. If the address for the registered vehicle falls into an area with overlapping electric power retail service territories then a single pipe | delimits utilities of same TYPE and a double pipe || delimits utilities of different types. We combined vehicle address and Homeland Infrastructure Foundation Level Database (HIFLD) (https://gii.dhs.gov/HIFLD) Retail_Service_Territories feature layer using a geographic information system to assign values for this field. Blanks occur for vehicles with addresses outside of Washington or for addresses falling into areas in Washington not containing a mapped electric power retail service territory in the source data.</td>\n",
        "      </tr>\n",
        "      <tr>\n",
        "        <td>2020 Census Tract</td>\n",
        "        <td>The census tract identifier is a combination of the state, county, and census tract codes as assigned by the United States Census Bureau in the 2020 census, also known as Geographic Identifier (GEOID). More information can be found here: https://www.census.gov/programs-surveys/geography/about/glossary.html#par_textimage_13 https://www.census.gov/programs-surveys/geography/guidance/geo-identifiers.html</td>\n",
        "      </tr>\n",
        "  </tbody>\n",
        "  </table>"
      ],
      "metadata": {
        "id": "hXCBIpdVgwV9"
      }
    },
    {
      "cell_type": "code",
      "source": [
        "import pandas as pd\n",
        "import matplotlib.pyplot as plt\n",
        "import requests\n",
        "import re"
      ],
      "metadata": {
        "id": "youZwZl7gxvW"
      },
      "execution_count": 1,
      "outputs": []
    },
    {
      "cell_type": "code",
      "source": [
        "df = pd.read_csv('https://data.wa.gov/api/views/f6w7-q2d2/rows.csv?accessType=DOWNLOAD')"
      ],
      "metadata": {
        "id": "uf0AIlCkhDDN"
      },
      "execution_count": 2,
      "outputs": []
    },
    {
      "cell_type": "markdown",
      "source": [
        "## Changing the columns name for the better readibility\n",
        "  - We change the name of all columns by converting to the lower case and replace white spaces with the underscores."
      ],
      "metadata": {
        "id": "-ooQiHlJ3z1l"
      }
    },
    {
      "cell_type": "code",
      "source": [
        "def func(s : str) -> str:\n",
        "  s = s.replace('(', '').replace(')', '').replace(' ', '_').lower()\n",
        "  return s"
      ],
      "metadata": {
        "id": "DyK0jCcd3xvA"
      },
      "execution_count": 3,
      "outputs": []
    },
    {
      "cell_type": "code",
      "source": [
        "df.columns = df.columns.map(func)\n",
        "df.info()"
      ],
      "metadata": {
        "colab": {
          "base_uri": "https://localhost:8080/"
        },
        "id": "hicMHn6YcoPa",
        "outputId": "6d5b4ba1-f358-4cee-fce2-5b9850b27691"
      },
      "execution_count": 4,
      "outputs": [
        {
          "output_type": "stream",
          "name": "stdout",
          "text": [
            "<class 'pandas.core.frame.DataFrame'>\n",
            "RangeIndex: 163003 entries, 0 to 163002\n",
            "Data columns (total 17 columns):\n",
            " #   Column                                           Non-Null Count   Dtype  \n",
            "---  ------                                           --------------   -----  \n",
            " 0   vin_1-10                                         163003 non-null  object \n",
            " 1   county                                           162999 non-null  object \n",
            " 2   city                                             162999 non-null  object \n",
            " 3   state                                            163003 non-null  object \n",
            " 4   postal_code                                      162999 non-null  float64\n",
            " 5   model_year                                       163003 non-null  int64  \n",
            " 6   make                                             163003 non-null  object \n",
            " 7   model                                            163003 non-null  object \n",
            " 8   electric_vehicle_type                            163003 non-null  object \n",
            " 9   clean_alternative_fuel_vehicle_cafv_eligibility  163003 non-null  object \n",
            " 10  electric_range                                   163003 non-null  int64  \n",
            " 11  base_msrp                                        163003 non-null  int64  \n",
            " 12  legislative_district                             162637 non-null  float64\n",
            " 13  dol_vehicle_id                                   163003 non-null  int64  \n",
            " 14  vehicle_location                                 162994 non-null  object \n",
            " 15  electric_utility                                 162999 non-null  object \n",
            " 16  2020_census_tract                                162999 non-null  float64\n",
            "dtypes: float64(3), int64(4), object(10)\n",
            "memory usage: 21.1+ MB\n"
          ]
        }
      ]
    },
    {
      "cell_type": "code",
      "source": [
        "df.memory_usage(deep = True).sum()/(1024**2)"
      ],
      "metadata": {
        "colab": {
          "base_uri": "https://localhost:8080/"
        },
        "id": "uUok3wr38fq4",
        "outputId": "91348056-72dc-47af-d352-2006376e37b4"
      },
      "execution_count": 5,
      "outputs": [
        {
          "output_type": "execute_result",
          "data": {
            "text/plain": [
              "127.04358577728271"
            ]
          },
          "metadata": {},
          "execution_count": 5
        }
      ]
    },
    {
      "cell_type": "markdown",
      "source": [
        "  - This dataset is quite large and needs `127 MBs` to store. It is much better to look into the datatypes of the columns and see if we can reduce the memory usage of this dataset without loosing the information about the data.\n",
        "  - Many columns are stored as the python `object` which takes larger space. Therefore, we see whether we can convert these `object` datatypes to the datatypes which needs much smaller space."
      ],
      "metadata": {
        "id": "4vdX49aq4Tw0"
      }
    },
    {
      "cell_type": "code",
      "source": [
        "df['state'].memory_usage(deep = True)/(1024**2)"
      ],
      "metadata": {
        "colab": {
          "base_uri": "https://localhost:8080/"
        },
        "id": "_TYYiY_-_LC7",
        "outputId": "2b97d572-efd6-4e65-8429-f530643c46b5"
      },
      "execution_count": 19,
      "outputs": [
        {
          "output_type": "execute_result",
          "data": {
            "text/plain": [
              "9.17177677154541"
            ]
          },
          "metadata": {},
          "execution_count": 19
        }
      ]
    },
    {
      "cell_type": "markdown",
      "source": [
        "  - We use `memory_usage` function to calculate the memory used by the `state` column. It seems that it is using `9+ MBs` of the memory. Therefore, it is important to dig further to analyze what is going on?\n",
        "  - The description of the columns shows that the state column stores the name of the state, which is a string type. Let us find how many unique states we have in the `state` column."
      ],
      "metadata": {
        "id": "3qmzEJHI5qQ9"
      }
    },
    {
      "cell_type": "code",
      "source": [
        "df['state'].nunique()"
      ],
      "metadata": {
        "colab": {
          "base_uri": "https://localhost:8080/"
        },
        "id": "7UY-_5Tn_iBf",
        "outputId": "b46a2889-0c29-4843-9825-e30e79137a44"
      },
      "execution_count": 20,
      "outputs": [
        {
          "output_type": "execute_result",
          "data": {
            "text/plain": [
              "45"
            ]
          },
          "metadata": {},
          "execution_count": 20
        }
      ]
    },
    {
      "cell_type": "markdown",
      "source": [
        "  - The `state` column has only `45` states, therefore, instead of storing them as individual string we convert them to the `pandas` data type catageory."
      ],
      "metadata": {
        "id": "9ElYS1Eu64nD"
      }
    },
    {
      "cell_type": "code",
      "source": [
        "df['state'].astype('category').memory_usage(deep = True)/(1024**2)"
      ],
      "metadata": {
        "colab": {
          "base_uri": "https://localhost:8080/"
        },
        "id": "syPK_Mej_LuA",
        "outputId": "7a4f8f74-3878-430d-ab84-17467f720f14"
      },
      "execution_count": 21,
      "outputs": [
        {
          "output_type": "execute_result",
          "data": {
            "text/plain": [
              "0.15912818908691406"
            ]
          },
          "metadata": {},
          "execution_count": 21
        }
      ]
    },
    {
      "cell_type": "markdown",
      "source": [
        "  - After converting to the `pandas` `category` type, we have reduced the memory usage from `9+ MBs` to `0.16 MBs`.\n",
        "  - Now let us directly convert all the `object` data types to the `category` data type except the `vin_1-10` column. Every value in the `vin_1-10` column is unique and converting to the `category` data type is not efficient."
      ],
      "metadata": {
        "id": "VR8yh7np7l9k"
      }
    },
    {
      "cell_type": "code",
      "source": [
        "l = list(df.columns[df.dtypes==object][1:])"
      ],
      "metadata": {
        "id": "X_FTgKYpFK-H"
      },
      "execution_count": 22,
      "outputs": []
    },
    {
      "cell_type": "code",
      "source": [
        "dtypes_mapping = \\\n",
        "dict(zip(l, ['category']*len(l)))"
      ],
      "metadata": {
        "id": "X4vtkzPNNMiS"
      },
      "execution_count": 23,
      "outputs": []
    },
    {
      "cell_type": "code",
      "source": [
        "df.astype(dtypes_mapping).memory_usage(deep = True).sum()/(1024 ** 2)"
      ],
      "metadata": {
        "colab": {
          "base_uri": "https://localhost:8080/"
        },
        "id": "bNc60uukNcEu",
        "outputId": "ade4a204-6c53-4eae-d291-ff511aa9b5dd"
      },
      "execution_count": 24,
      "outputs": [
        {
          "output_type": "execute_result",
          "data": {
            "text/plain": [
              "21.347376823425293"
            ]
          },
          "metadata": {},
          "execution_count": 24
        }
      ]
    },
    {
      "cell_type": "markdown",
      "source": [
        "  - We see that after converting the `object` data type to the `category`, we have reduced the memory usage from `127 MBs` to `21.34 MB`.\n",
        "  - Now we see whether we can reduce the memory usage further by converting the data types of the remaining columns."
      ],
      "metadata": {
        "id": "eHZsO0xjAiHL"
      }
    },
    {
      "cell_type": "code",
      "source": [
        "non_object_columns = df.columns[df.dtypes!=object]\n",
        "for col in non_object_columns:\n",
        "  print(f'{col}, {df[col].nunique()}')"
      ],
      "metadata": {
        "colab": {
          "base_uri": "https://localhost:8080/"
        },
        "id": "SW2asiEW5pj4",
        "outputId": "bea86ff9-76e8-429b-8390-0817fc2bf3db"
      },
      "execution_count": 12,
      "outputs": [
        {
          "output_type": "stream",
          "name": "stdout",
          "text": [
            "postal_code, 843\n",
            "model_year, 22\n",
            "electric_range, 102\n",
            "base_msrp, 31\n",
            "legislative_district, 49\n",
            "dol_vehicle_id, 163003\n",
            "2020_census_tract, 2094\n"
          ]
        }
      ]
    },
    {
      "cell_type": "markdown",
      "source": [
        "  - From the above stats we can see that the number of unique values in the non-object columns is a very small as compared to the total number rows. Therefore, storing the repetitive values as the integers is not efficient. However, if we store them as the `category` datatype, we can have a significant reduction in the memory usage, but we have to change their data type to use them in machine learning model."
      ],
      "metadata": {
        "id": "Mh096GJc7mNs"
      }
    },
    {
      "cell_type": "code",
      "source": [
        "dtypes_mapping.update(\n",
        " {\n",
        "    'postal_code': 'category',\n",
        "    'model_year': 'category',\n",
        "    'electric_range': 'category',\n",
        "    'base_msrp': 'category',\n",
        "    'legislative_district': 'category',\n",
        "    # 'dol_vehicle_id': 'category',\n",
        "    '2020_census_tract': 'category'\n",
        "})\n",
        "df.astype(dtypes_mapping).memory_usage(deep = True).sum()/ 1024**2"
      ],
      "metadata": {
        "colab": {
          "base_uri": "https://localhost:8080/"
        },
        "id": "kTvKF4jYRTWB",
        "outputId": "ff04e6bc-474f-49f4-a071-0ca86868b89e"
      },
      "execution_count": 26,
      "outputs": [
        {
          "output_type": "execute_result",
          "data": {
            "text/plain": [
              "15.254378318786621"
            ]
          },
          "metadata": {},
          "execution_count": 26
        }
      ]
    },
    {
      "cell_type": "markdown",
      "source": [
        "  - As most of the columns have repetitive values and converting them to the `category` datatype, we have significantly reduced the memory usage from `127 MBs` to `15.25 MBs` and this is significant reduction in the memory usage."
      ],
      "metadata": {
        "id": "iN8-RvOFSswe"
      }
    },
    {
      "cell_type": "code",
      "source": [
        "df = df.astype(dtypes_mapping)"
      ],
      "metadata": {
        "id": "JxXyC9amSsAS"
      },
      "execution_count": 27,
      "outputs": []
    },
    {
      "cell_type": "code",
      "source": [
        "ax = (df\n",
        " .groupby(by = ['county', 'model_year', 'make'])\n",
        " .count()['model']\n",
        " .reset_index()\n",
        " .loc[lambda df_: (df_.make == 'TESLA')]\n",
        " .groupby(['model_year'], as_index = False)\n",
        " .agg(sum_val = ('model', 'sum'))\n",
        " .astype('int')\n",
        " .plot(x = 'model_year', y = 'sum_val', style = '-o', xlim = [1996, 2023.1], figsize = (16, 5))\n",
        " )"
      ],
      "metadata": {
        "colab": {
          "base_uri": "https://localhost:8080/",
          "height": 465
        },
        "id": "eyhZ8wnN7lgX",
        "outputId": "604b9952-a758-4bf3-fd34-f4facb36c0b7"
      },
      "execution_count": 78,
      "outputs": [
        {
          "output_type": "display_data",
          "data": {
            "text/plain": [
              "<Figure size 1600x500 with 1 Axes>"
            ],
            "image/png": "[encoded data removed]"
          },
          "metadata": {}
        }
      ]
    },
    {
      "cell_type": "markdown",
      "source": [
        "  - In the figure above we show the number of Tesla cars registered with the Washington's DOL over the years. There has been a significant growth after `2015`. However, in `2019` there has been a drop as compared to the year `2018`, this could be explained by what happened at that time in US.\n",
        "  - **Note:** The query written is not optimized for looking at only the Tesla's cars over the years. This could be optimized if the target is to only get the Tesla cars."
      ],
      "metadata": {
        "id": "sUB-3CHWZvf_"
      }
    },
    {
      "cell_type": "code",
      "source": [],
      "metadata": {
        "id": "emDO3R3E2LUt"
      },
      "execution_count": 34,
      "outputs": []
    },
    {
      "cell_type": "code",
      "source": [],
      "metadata": {
        "id": "7UDIEm_52Wep"
      },
      "execution_count": 41,
      "outputs": []
    },
    {
      "cell_type": "code",
      "source": [],
      "metadata": {
        "id": "KlWuVdW42W5r"
      },
      "execution_count": 41,
      "outputs": []
    },
    {
      "cell_type": "code",
      "source": [],
      "metadata": {
        "id": "z-xbzIj-2nu0"
      },
      "execution_count": null,
      "outputs": []
    },
    {
      "cell_type": "markdown",
      "source": [
        "# Exploratory Data Analysis"
      ],
      "metadata": {
        "id": "baYsMcKwhXFE"
      }
    },
    {
      "cell_type": "code",
      "source": [],
      "metadata": {
        "id": "AT-AEviohbB3"
      },
      "execution_count": null,
      "outputs": []
    },
    {
      "cell_type": "markdown",
      "source": [
        "# Modeling"
      ],
      "metadata": {
        "id": "7oipcsSviCWN"
      }
    },
    {
      "cell_type": "code",
      "source": [],
      "metadata": {
        "id": "3LLgg3d2iEJE"
      },
      "execution_count": null,
      "outputs": []
    },
    {
      "cell_type": "markdown",
      "source": [
        "# Conclusion"
      ],
      "metadata": {
        "id": "rEF0ZFUCiE7N"
      }
    },
    {
      "cell_type": "code",
      "source": [],
      "metadata": {
        "id": "z4lI_LOoiJsm"
      },
      "execution_count": null,
      "outputs": []
    },
    {
      "cell_type": "code",
      "source": [],
      "metadata": {
        "id": "QLAhydVXiJYz"
      },
      "execution_count": null,
      "outputs": []
    },
    {
      "cell_type": "code",
      "source": [],
      "metadata": {
        "id": "Bb0RV6vwiGWj"
      },
      "execution_count": null,
      "outputs": []
    },
    {
      "cell_type": "code",
      "source": [],
      "metadata": {
        "id": "nR0KZFq-XyUb"
      },
      "execution_count": null,
      "outputs": []
    },
    {
      "cell_type": "code",
      "source": [],
      "metadata": {
        "id": "KGVdTfvVUwiF"
      },
      "execution_count": null,
      "outputs": []
    },
    {
      "cell_type": "code",
      "source": [],
      "metadata": {
        "id": "S3N36epJVC92"
      },
      "execution_count": null,
      "outputs": []
    },
    {
      "cell_type": "code",
      "source": [],
      "metadata": {
        "id": "KPC0MGXVVGi6"
      },
      "execution_count": null,
      "outputs": []
    },
    {
      "cell_type": "code",
      "source": [],
      "metadata": {
        "id": "02N9fsTHV8J9"
      },
      "execution_count": null,
      "outputs": []
    },
    {
      "cell_type": "code",
      "source": [],
      "metadata": {
        "id": "Jc7T4uHnWo6m"
      },
      "execution_count": null,
      "outputs": []
    }
  ]
}