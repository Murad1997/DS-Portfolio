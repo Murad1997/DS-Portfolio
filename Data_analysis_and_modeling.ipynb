{
  "nbformat": 4,
  "nbformat_minor": 0,
  "metadata": {
    "colab": {
      "provenance": [],
      "authorship_tag": "ABX9TyPaC7exkzrH4leQQT9Jytei",
      "include_colab_link": true
    },
    "kernelspec": {
      "name": "python3",
      "display_name": "Python 3"
    },
    "language_info": {
      "name": "python"
    }
  },
  "cells": [
    {
      "cell_type": "markdown",
      "metadata": {
        "id": "view-in-github",
        "colab_type": "text"
      },
      "source": [
        "<a href=\"https://colab.research.google.com/github/Murad1997/DS-Portfolio/blob/main/Data_analysis_and_modeling.ipynb\" target=\"_parent\"><img src=\"https://colab.research.google.com/assets/colab-badge.svg\" alt=\"Open In Colab\"/></a>"
      ]
    },
    {
      "cell_type": "markdown",
      "source": [
        "# Data Loading\n",
        "  - We use the electric vhicle dataset provided by the Washington State Department of Licensing and is available [here](https://data.wa.gov/Transportation/Electric-Vehicle-Population-Data/f6w7-q2d2/about_data). This dataset shows the Battery Electric Vehicles (BEVs) and Plug-in Hybrid Electric Vehicles (PHEVs) that are currently registered through Washington State Department of Licensing (DOL).\n",
        "  - The selected dataset from teh Washington State Department of Licensing (DOL) has `163K` rows and `17` columns. The detials of the columns are as follows:\n",
        "\n",
        "   <table>\n",
        "  <thead>\n",
        "      <tr>\n",
        "        <th>Column Name</th>\n",
        "        <th>Description</th>\n",
        "      </tr>\n",
        "  </thead>\n",
        "  <tbody>\n",
        "      <tr>\n",
        "        <td>VIN (1-10)</td>\n",
        "        <td>The 1st 10 characters of each vehicle's Vehicle Identification Number (VIN).</td>\n",
        "      </tr>\n",
        "      <tr>\n",
        "        <td>County</td>\n",
        "        <td>This is the geographic region of a state that a vehicle's owner is listed to reside within. Vehicles registered in Washington state may be located in other states.</td>\n",
        "      </tr>\n",
        "      <tr>\n",
        "        <td>City</td>\n",
        "        <td>The city in which the registered owner resides.</td>\n",
        "      </tr>\n",
        "      <tr>\n",
        "        <td>State</td>\n",
        "        <td>This is the geographic region of the country associated with the record. These addresses may be located in other states.</td>\n",
        "      </tr>\n",
        "      <tr>\n",
        "        <td>Postal Code</td>\n",
        "        <td>The 5 digit zip code in which the registered owner resides.</td>\n",
        "      </tr>\n",
        "      <tr>\n",
        "        <td>Model Year</td>\n",
        "        <td>The model year of the vehicle, determined by decoding the Vehicle Identification Number (VIN).</td>\n",
        "      </tr>\n",
        "      <tr>\n",
        "        <td>Make</td>\n",
        "        <td>The manufacturer of the vehicle, determined by decoding the Vehicle Identification Number (VIN).</td>\n",
        "      </tr>\n",
        "      <tr>\n",
        "        <td>Model</td>\n",
        "        <td>The model of the vehicle, determined by decoding the Vehicle Identification Number (VIN).</td>\n",
        "      </tr>\n",
        "      <tr>\n",
        "        <td>Electric Vehicle Type</td>\n",
        "        <td>This distinguishes the vehicle as all electric or a plug-in hybrid.</td>\n",
        "      </tr>\n",
        "      <tr>\n",
        "        <td>Clean Alternative Fuel Vehicle (CAFV) Eligibility</td>\n",
        "        <td>This categorizes vehicle as Clean Alternative Fuel Vehicles (CAFVs) based on the fuel requirement and electric-only range requirement in House Bill 2042 as passed in the 2019 legislative session.</td>\n",
        "      </tr>\n",
        "      <tr>\n",
        "        <td>Electric Range</td>\n",
        "        <td>Describes how far a vehicle can travel purely on its electric charge.</td>\n",
        "      </tr>\n",
        "      <tr>\n",
        "        <td>Base MSRP</td>\n",
        "        <td>This is the lowest Manufacturer's Suggested Retail Price (MSRP) for any trim level of the model in question.</td>\n",
        "      </tr>\n",
        "      <tr>\n",
        "        <td>Legislative District</td>\n",
        "        <td>The specific section of Washington State that the vehicle's owner resides in, as represented in the state legislature.</td>\n",
        "      </tr>\n",
        "      <tr>\n",
        "        <td>DOL Vehicle ID</td>\n",
        "        <td>Unique number assigned to each vehicle by Department of Licensing for identification purposes.</td>\n",
        "      </tr>\n",
        "      <tr>\n",
        "        <td>Vehicle Location</td>\n",
        "        <td>The center of the ZIP Code for the registered vehicle.</td>\n",
        "      </tr>\n",
        "      <tr>\n",
        "        <td>Electric Utility</td>\n",
        "        <td>This is the electric power retail service territories serving the address of the registered vehicle. All ownership types for areas in Washington are included: federal, investor owned, municipal, political subdivision, and cooperative. If the address for the registered vehicle falls into an area with overlapping electric power retail service territories then a single pipe | delimits utilities of same TYPE and a double pipe || delimits utilities of different types. We combined vehicle address and Homeland Infrastructure Foundation Level Database (HIFLD) (https://gii.dhs.gov/HIFLD) Retail_Service_Territories feature layer using a geographic information system to assign values for this field. Blanks occur for vehicles with addresses outside of Washington or for addresses falling into areas in Washington not containing a mapped electric power retail service territory in the source data.</td>\n",
        "      </tr>\n",
        "      <tr>\n",
        "        <td>2020 Census Tract</td>\n",
        "        <td>The census tract identifier is a combination of the state, county, and census tract codes as assigned by the United States Census Bureau in the 2020 census, also known as Geographic Identifier (GEOID). More information can be found here: https://www.census.gov/programs-surveys/geography/about/glossary.html#par_textimage_13 https://www.census.gov/programs-surveys/geography/guidance/geo-identifiers.html</td>\n",
        "      </tr>\n",
        "  </tbody>\n",
        "  </table>"
      ],
      "metadata": {
        "id": "hXCBIpdVgwV9"
      }
    },
    {
      "cell_type": "code",
      "source": [
        "import pandas as pd\n",
        "import matplotlib.pyplot as plt\n",
        "import requests\n",
        "import re"
      ],
      "metadata": {
        "id": "youZwZl7gxvW"
      },
      "execution_count": 116,
      "outputs": []
    },
    {
      "cell_type": "code",
      "source": [
        "df = pd.read_csv('https://data.wa.gov/api/views/f6w7-q2d2/rows.csv?accessType=DOWNLOAD')"
      ],
      "metadata": {
        "id": "uf0AIlCkhDDN"
      },
      "execution_count": 98,
      "outputs": []
    },
    {
      "cell_type": "code",
      "source": [],
      "metadata": {
        "id": "hicMHn6YcoPa"
      },
      "execution_count": 116,
      "outputs": []
    },
    {
      "cell_type": "code",
      "source": [],
      "metadata": {
        "id": "_TYYiY_-_LC7"
      },
      "execution_count": 115,
      "outputs": []
    },
    {
      "cell_type": "code",
      "source": [
        "def func(s : str) -> str:\n",
        "  s = s.replace('(', '').replace(')', '').replace(' ', '_').lower()\n",
        "  return s"
      ],
      "metadata": {
        "id": "7UY-_5Tn_iBf"
      },
      "execution_count": 49,
      "outputs": []
    },
    {
      "cell_type": "code",
      "source": [
        "df.columns = df.columns.map(func)"
      ],
      "metadata": {
        "id": "syPK_Mej_LuA"
      },
      "execution_count": 55,
      "outputs": []
    },
    {
      "cell_type": "code",
      "source": [
        "#df[df.columns[df.dtypes==object]]\n",
        "# df.memory_usage(deep = True)"
      ],
      "metadata": {
        "id": "X_FTgKYpFK-H"
      },
      "execution_count": 70,
      "outputs": []
    },
    {
      "cell_type": "code",
      "source": [
        "df.info()"
      ],
      "metadata": {
        "colab": {
          "base_uri": "https://localhost:8080/"
        },
        "id": "X4vtkzPNNMiS",
        "outputId": "e475451c-53ef-42f0-9301-2a7ee177e5e6"
      },
      "execution_count": 71,
      "outputs": [
        {
          "output_type": "stream",
          "name": "stdout",
          "text": [
            "<class 'pandas.core.frame.DataFrame'>\n",
            "RangeIndex: 163003 entries, 0 to 163002\n",
            "Data columns (total 17 columns):\n",
            " #   Column                                           Non-Null Count   Dtype  \n",
            "---  ------                                           --------------   -----  \n",
            " 0   vin_1-10                                         163003 non-null  object \n",
            " 1   county                                           162999 non-null  object \n",
            " 2   city                                             162999 non-null  object \n",
            " 3   state                                            163003 non-null  object \n",
            " 4   postal_code                                      162999 non-null  float64\n",
            " 5   model_year                                       163003 non-null  int64  \n",
            " 6   make                                             163003 non-null  object \n",
            " 7   model                                            163003 non-null  object \n",
            " 8   electric_vehicle_type                            163003 non-null  object \n",
            " 9   clean_alternative_fuel_vehicle_cafv_eligibility  163003 non-null  object \n",
            " 10  electric_range                                   163003 non-null  int64  \n",
            " 11  base_msrp                                        163003 non-null  int64  \n",
            " 12  legislative_district                             162637 non-null  float64\n",
            " 13  dol_vehicle_id                                   163003 non-null  int64  \n",
            " 14  vehicle_location                                 162994 non-null  object \n",
            " 15  electric_utility                                 162999 non-null  object \n",
            " 16  2020_census_tract                                162999 non-null  float64\n",
            "dtypes: float64(3), int64(4), object(10)\n",
            "memory usage: 21.1+ MB\n"
          ]
        }
      ]
    },
    {
      "cell_type": "code",
      "source": [],
      "metadata": {
        "id": "bNc60uukNcEu"
      },
      "execution_count": null,
      "outputs": []
    },
    {
      "cell_type": "markdown",
      "source": [
        "# Exploratory Data Analysis"
      ],
      "metadata": {
        "id": "baYsMcKwhXFE"
      }
    },
    {
      "cell_type": "code",
      "source": [],
      "metadata": {
        "id": "AT-AEviohbB3"
      },
      "execution_count": null,
      "outputs": []
    },
    {
      "cell_type": "markdown",
      "source": [
        "# Modeling"
      ],
      "metadata": {
        "id": "7oipcsSviCWN"
      }
    },
    {
      "cell_type": "code",
      "source": [],
      "metadata": {
        "id": "3LLgg3d2iEJE"
      },
      "execution_count": null,
      "outputs": []
    },
    {
      "cell_type": "markdown",
      "source": [
        "# Conclusion"
      ],
      "metadata": {
        "id": "rEF0ZFUCiE7N"
      }
    },
    {
      "cell_type": "code",
      "source": [],
      "metadata": {
        "id": "z4lI_LOoiJsm"
      },
      "execution_count": 115,
      "outputs": []
    },
    {
      "cell_type": "code",
      "source": [],
      "metadata": {
        "id": "QLAhydVXiJYz"
      },
      "execution_count": 115,
      "outputs": []
    },
    {
      "cell_type": "code",
      "source": [],
      "metadata": {
        "id": "Bb0RV6vwiGWj"
      },
      "execution_count": 115,
      "outputs": []
    },
    {
      "cell_type": "code",
      "source": [],
      "metadata": {
        "id": "nR0KZFq-XyUb"
      },
      "execution_count": 115,
      "outputs": []
    },
    {
      "cell_type": "code",
      "source": [],
      "metadata": {
        "id": "KGVdTfvVUwiF"
      },
      "execution_count": 115,
      "outputs": []
    },
    {
      "cell_type": "code",
      "source": [],
      "metadata": {
        "id": "S3N36epJVC92"
      },
      "execution_count": 115,
      "outputs": []
    },
    {
      "cell_type": "code",
      "source": [],
      "metadata": {
        "id": "KPC0MGXVVGi6"
      },
      "execution_count": 115,
      "outputs": []
    },
    {
      "cell_type": "code",
      "source": [],
      "metadata": {
        "id": "02N9fsTHV8J9"
      },
      "execution_count": 115,
      "outputs": []
    },
    {
      "cell_type": "code",
      "source": [],
      "metadata": {
        "id": "Jc7T4uHnWo6m"
      },
      "execution_count": null,
      "outputs": []
    }
  ]
}